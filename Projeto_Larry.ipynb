{
  "nbformat": 4,
  "nbformat_minor": 0,
  "metadata": {
    "colab": {
      "provenance": [],
      "authorship_tag": "ABX9TyMlnf1QvgYXqaNZfxpTH52G",
      "include_colab_link": true
    },
    "kernelspec": {
      "name": "python3",
      "display_name": "Python 3"
    },
    "language_info": {
      "name": "python"
    }
  },
  "cells": [
    {
      "cell_type": "markdown",
      "metadata": {
        "id": "view-in-github",
        "colab_type": "text"
      },
      "source": [
        "<a href=\"https://colab.research.google.com/github/GasparMGL/Larry_GoogleIA/blob/main/Projeto_Larry.ipynb\" target=\"_parent\"><img src=\"https://colab.research.google.com/assets/colab-badge.svg\" alt=\"Open In Colab\"/></a>"
      ]
    },
    {
      "cell_type": "code",
      "source": [
        "!pip install -U -q google-generativeai # Instala a biblioteca google-generativeai\n",
        "import google.generativeai as genai  # Importa a biblioteca para usar o Google Gemini\n",
        "\n",
        "GOOGLE_API_KEY = \"Sua API key\"  # <<<< Substitua pela sua API key\n",
        "genai.configure(api_key=GOOGLE_API_KEY)  # Configura a API key\n",
        "\n",
        "# Importa funções para exibir HTML formatado e manipular texto\n",
        "from IPython.display import display, HTML\n",
        "import textwrap\n",
        "from markdown import Markdown\n",
        "\n",
        "def to_markdown(text):\n",
        "  \"\"\"\n",
        "  Formata o texto para Markdown, substituindo '•' por '* e recuando com '> '.\n",
        "  \"\"\"\n",
        "  text = text.replace('•', '  *')  # Substitui marcadores '•' por '* '\n",
        "  indented_text = textwrap.indent(text, '> ', predicate=lambda _: True)  # Recua o texto com '> '\n",
        "  return HTML(Markdown().convert(indented_text)) # Converte para HTML e retorna\n",
        "\n",
        "# Pergunta o nome do usuário\n",
        "nome_usuario = input('Digite seu nome: ')\n",
        "\n",
        "# Define as instruções para o modelo Gemini\n",
        "model = genai.GenerativeModel(\n",
        "    model_name=\"gemini-1.5-pro-latest\",  # Escolhe o modelo Gemini\n",
        "    system_instruction=f\"\"\"\n",
        "        Aja como assistente jurídico e ajude com informações sobre as leis, direitos e deveres do cidadão brasileiro.\n",
        "        Seu nome é Larry.\n",
        "        Elabore uma mensagem receptiva, mas não fique repetindo os mesmos emojis, falando sobre os principais direitos e leis, organize em tópicos.\n",
        "        Quando for responder a pergunta tente citar a lei, o número dela, e detalhes simples sobre a lei que regulamenta.\n",
        "        Explique que você só informa, e para análises jurídicas sérias, a pessoa terá que procurar um advogado.\n",
        "        Se tentar desviar do assunto de leis e assunto jurídico, informe que você foi treinado apenas para assuntos jurídicos e de leis.\n",
        "        Se a pessoa insistir em mudar do assunto em que você, como assistente jurídico, conhece, tente dar respostas pequenas e curtas sobre o assunto divergente.\n",
        "        Use o nome {nome_usuario} ao se dirigir ao usuário mas não cite repetidamente o nome do usuario.\n",
        "        Informe que para encerrar a conversa o usuario precisa digitar fim.\n",
        "    \"\"\"\n",
        ")\n",
        "\n",
        "# Inicia o chat e envia uma mensagem de boas-vindas\n",
        "chat = model.start_chat(history=[])  # Cria uma nova instância de chat\n",
        "response = chat.send_message(\"Olá!\")  # Envia a primeira mensagem para o modelo\n",
        "\n",
        "# Imprime a mensagem de boas-vindas do modelo\n",
        "display(to_markdown(f'**Larry**: {response.text}'))  # Exibe a resposta formatada em Markdown\n",
        "print('=======================================================================')  # Separador visual\n",
        "\n",
        "# Loop principal da conversa\n",
        "prompt = input(f'{nome_usuario}: ')  # Obtém a primeira entrada do usuário\n",
        "while prompt != \"fim\":  # Continua até o usuário digitar \"fim\"\n",
        "  response = chat.send_message(prompt)  # Envia a mensagem do usuário para o modelo\n",
        "\n",
        "  # Imprime a mensagem do usuário\n",
        "  #display(to_markdown(f'**{nome_usuario}**: {prompt}'))  # Opcional: exibe a mensagem do usuário\n",
        "  print('=======================================================================')  # Separador visual\n",
        "\n",
        "  # Imprime a resposta do modelo\n",
        "  display(to_markdown(f'**Larry**: {response.text}'))  # Exibe a resposta do modelo formatada\n",
        "  print('=======================================================================')  # Separador visual\n",
        "\n",
        "  prompt = input(f'{nome_usuario}: ')  # Obtém a próxima entrada do usuário"
      ],
      "metadata": {
        "id": "jAy4Q1KINVk3"
      },
      "execution_count": null,
      "outputs": []
    }
  ]
}